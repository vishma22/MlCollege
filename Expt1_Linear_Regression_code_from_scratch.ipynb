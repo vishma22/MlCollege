{
  "nbformat": 4,
  "nbformat_minor": 0,
  "metadata": {
    "colab": {
      "provenance": [],
      "include_colab_link": true
    },
    "kernelspec": {
      "name": "python3",
      "display_name": "Python 3"
    },
    "language_info": {
      "name": "python"
    }
  },
  "cells": [
    {
      "cell_type": "markdown",
      "metadata": {
        "id": "view-in-github",
        "colab_type": "text"
      },
      "source": [
        "<a href=\"https://colab.research.google.com/github/vishma22/MlCollege/blob/main/Expt1_Linear_Regression_code_from_scratch.ipynb\" target=\"_parent\"><img src=\"https://colab.research.google.com/assets/colab-badge.svg\" alt=\"Open In Colab\"/></a>"
      ]
    },
    {
      "cell_type": "code",
      "source": [
        "import pandas as pd\n",
        "import numpy as np\n",
        "import seaborn as sns\n",
        "plt.rcParams['figure.figsize'] = (10,8)"
      ],
      "metadata": {
        "id": "-XFHPIRSTQhH",
        "outputId": "3941af79-14a2-47e3-e1bf-cdfe2d14d991",
        "colab": {
          "base_uri": "https://localhost:8080/",
          "height": 202
        }
      },
      "execution_count": null,
      "outputs": [
        {
          "output_type": "error",
          "ename": "NameError",
          "evalue": "ignored",
          "traceback": [
            "\u001b[0;31m---------------------------------------------------------------------------\u001b[0m",
            "\u001b[0;31mNameError\u001b[0m                                 Traceback (most recent call last)",
            "\u001b[0;32m<ipython-input-1-a21078568b09>\u001b[0m in \u001b[0;36m<module>\u001b[0;34m\u001b[0m\n\u001b[1;32m      2\u001b[0m \u001b[0;32mimport\u001b[0m \u001b[0mnumpy\u001b[0m \u001b[0;32mas\u001b[0m \u001b[0mnp\u001b[0m\u001b[0;34m\u001b[0m\u001b[0;34m\u001b[0m\u001b[0m\n\u001b[1;32m      3\u001b[0m \u001b[0;32mimport\u001b[0m \u001b[0mseaborn\u001b[0m \u001b[0;32mas\u001b[0m \u001b[0msns\u001b[0m\u001b[0;34m\u001b[0m\u001b[0;34m\u001b[0m\u001b[0m\n\u001b[0;32m----> 4\u001b[0;31m \u001b[0mplt\u001b[0m\u001b[0;34m.\u001b[0m\u001b[0mrcParams\u001b[0m\u001b[0;34m[\u001b[0m\u001b[0;34m'figure.figsize'\u001b[0m\u001b[0;34m]\u001b[0m \u001b[0;34m=\u001b[0m \u001b[0;34m(\u001b[0m\u001b[0;36m10\u001b[0m\u001b[0;34m,\u001b[0m\u001b[0;36m8\u001b[0m\u001b[0;34m)\u001b[0m\u001b[0;34m\u001b[0m\u001b[0;34m\u001b[0m\u001b[0m\n\u001b[0m",
            "\u001b[0;31mNameError\u001b[0m: name 'plt' is not defined"
          ]
        }
      ]
    },
    {
      "cell_type": "code",
      "source": [
        "import matplotlib.pyplot as plt\n",
        "plt.style.use('ggplot')\n",
        "%matplotlib inline"
      ],
      "metadata": {
        "id": "NkB_FiZTS3_T"
      },
      "execution_count": null,
      "outputs": []
    },
    {
      "cell_type": "markdown",
      "source": [
        "Load Data"
      ],
      "metadata": {
        "id": "6hyCP28cdwOc"
      }
    },
    {
      "cell_type": "code",
      "source": [
        "data = pd.read_csv('/content/foodtruck.txt')\n",
        "data.head(5)\n"
      ],
      "metadata": {
        "id": "JnCLTWG2Uv9l"
      },
      "execution_count": null,
      "outputs": []
    },
    {
      "cell_type": "code",
      "source": [
        "data.info()"
      ],
      "metadata": {
        "id": "g6S9462Qbh0b"
      },
      "execution_count": null,
      "outputs": []
    },
    {
      "cell_type": "markdown",
      "source": [
        "visualise data"
      ],
      "metadata": {
        "id": "epWkhrfWdyO6"
      }
    },
    {
      "cell_type": "code",
      "source": [
        "ax = sns.scatterplot(x = \"Population\", y = \"Profit\", data = data)\n",
        "ax.set_title(\"Population Vs Profit\")"
      ],
      "metadata": {
        "id": "h1cXcng0bmtw"
      },
      "execution_count": null,
      "outputs": []
    },
    {
      "cell_type": "markdown",
      "source": [
        "Compute Cost Jtheta"
      ],
      "metadata": {
        "id": "KkIGXo6Zd3O8"
      }
    },
    {
      "cell_type": "code",
      "source": [
        "def cost_function(X, y, theta):\n",
        "  m = len(y)\n",
        "  y_pred = X.dot(theta)\n",
        "  error = (y_pred - y) ** 2\n",
        "\n",
        "  return 1/ (2*m) * np.sum(error)"
      ],
      "metadata": {
        "id": "zCH7dkRVeOEO"
      },
      "execution_count": null,
      "outputs": []
    },
    {
      "cell_type": "code",
      "source": [
        "m = data.Population.size\n",
        "X = np.append(np.ones((m, 1)), data.Population.values.reshape(m, 1), axis=1)\n",
        "y = data.Profit.values.reshape (m, 1)\n",
        "theta = np.zeros((2, 1))\n",
        "\n",
        "cost_function (X, y, theta)\n"
      ],
      "metadata": {
        "id": "Itlas6hvih6w"
      },
      "execution_count": null,
      "outputs": []
    },
    {
      "cell_type": "markdown",
      "source": [
        "Gradient descent"
      ],
      "metadata": {
        "id": "diTje-1-Xotg"
      }
    },
    {
      "cell_type": "code",
      "source": [
        "def gradient_descent(X, y, theta, alpha, iterations):\n",
        "  m = len(y)\n",
        "  costs =[]\n",
        "  for i in range(iterations):\n",
        "    y_pred = X.dot(theta)\n",
        "    error = np.dot(X.transpose(), (y_pred - y))\n",
        "    theta -= alpha * 1/m *error\n",
        "    costs.append(cost_function(X, y, theta))\n",
        "  return theta, costs"
      ],
      "metadata": {
        "id": "AU9DvGzfXqjY"
      },
      "execution_count": null,
      "outputs": []
    },
    {
      "cell_type": "code",
      "source": [
        "theta, costs = gradient_descent(X, y, theta, alpha =0.01, iterations=1000)\n",
        "\n",
        "print(\"h(x) = {} + {}x1\".format(str(round(theta[0, 0], 2)), str(round(theta[1, 0], 2))))"
      ],
      "metadata": {
        "id": "NzDXPWlsYiWr"
      },
      "execution_count": null,
      "outputs": []
    },
    {
      "cell_type": "markdown",
      "source": [
        "Visualising Cost Function"
      ],
      "metadata": {
        "id": "tHTIhbR-HwUW"
      }
    },
    {
      "cell_type": "code",
      "source": [
        "from mpl_toolkits.mplot3d import Axes3D"
      ],
      "metadata": {
        "id": "GPjIvGXOHzbl"
      },
      "execution_count": null,
      "outputs": []
    },
    {
      "cell_type": "code",
      "source": [
        "theta_0 = np.linspace(-10, 10, 100)\n",
        "theta_1 = np.linspace(-1, 4, 100)\n",
        "\n",
        "cost_values = np.zeros((len(theta_0), len(theta_1)))\n",
        "\n",
        "for i in range(len(theta_0)):\n",
        "  for j in range(len(theta_1)):\n",
        "    t = np.array([theta_0[i], theta_1[j]])\n",
        "\n",
        "    cost_values[i,j] = cost_function(X,y,t)\n",
        "    "
      ],
      "metadata": {
        "id": "57TKmYYGLXYH"
      },
      "execution_count": null,
      "outputs": []
    },
    {
      "cell_type": "code",
      "source": [
        "fig = plt.figure(figsize = (12, 5))\n",
        "ax = fig.gca(projection ='3d')\n",
        "\n",
        "surf = ax.plot_surface(theta_0, theta_1, cost_values, cmap ='viridis')\n",
        "fig.colorbar(surf, shrink=0.5, aspect=5)\n",
        "\n",
        "plt.xlabel(\"$\\Theta_0$\")\n",
        "plt.ylabel(\"$\\Theta_1$\")\n",
        "ax.set_zlabel(\"$J(\\Theta)$\")\n",
        "\n",
        "ax.view_init(30, 330)\n",
        "\n",
        "plt.show()"
      ],
      "metadata": {
        "id": "LGxdUBG1NPpj"
      },
      "execution_count": null,
      "outputs": []
    },
    {
      "cell_type": "markdown",
      "source": [
        "Plotting Convergence of JTheta"
      ],
      "metadata": {
        "id": "EmG5nhgYQjfy"
      }
    },
    {
      "cell_type": "code",
      "source": [
        "plt.plot(costs)\n",
        "plt.xlabel(\"Interation\")\n",
        "plt.ylabel(\"$J(\\Theta)$\")\n",
        "plt.title(\"Values of cost function over iterations of gradient descent\")"
      ],
      "metadata": {
        "id": "-4t5ZPzEQoJm"
      },
      "execution_count": null,
      "outputs": []
    },
    {
      "cell_type": "markdown",
      "source": [
        "Training Data with Linear regression fit"
      ],
      "metadata": {
        "id": "9oNSs3vyXsen"
      }
    },
    {
      "cell_type": "code",
      "source": [
        "theta.shape"
      ],
      "metadata": {
        "id": "MzSSqOiCXw64"
      },
      "execution_count": null,
      "outputs": []
    },
    {
      "cell_type": "code",
      "source": [
        "theta"
      ],
      "metadata": {
        "id": "S5ojAE6aX1Xx"
      },
      "execution_count": null,
      "outputs": []
    },
    {
      "cell_type": "code",
      "source": [
        "theta = np.squeeze(theta)\n",
        "\n",
        "sns.scatterplot(x = \"Population\", y = \"Profit\", data = data)\n",
        "\n",
        "x_value = [x for x in range(5, 25)]\n",
        "y_value = [(x * theta[1] + theta[0]) for x in x_value]\n",
        "\n",
        "sns.lineplot(x_value, y_value)\n",
        "\n",
        "plt.xlabel(\"Population\")\n",
        "plt.ylabel(\"Profit\")\n",
        "plt.title(\"Linear regression Fit\");"
      ],
      "metadata": {
        "id": "whLyr6N9X3ex"
      },
      "execution_count": null,
      "outputs": []
    },
    {
      "cell_type": "markdown",
      "source": [
        "Inference using the optimized theta value"
      ],
      "metadata": {
        "id": "jrhkW_iwZ3MO"
      }
    },
    {
      "cell_type": "code",
      "source": [
        "def predict(x, theta):\n",
        "  y_pred = np.dot(theta.transpose(), x)\n",
        "  return y_pred"
      ],
      "metadata": {
        "id": "0nnDroUDZ8aK"
      },
      "execution_count": null,
      "outputs": []
    },
    {
      "cell_type": "code",
      "source": [
        "y_pred_1 = predict(np.array([1, 4]), theta)*10000\n",
        "y_pred_1"
      ],
      "metadata": {
        "id": "zEEYDJX3aONB"
      },
      "execution_count": null,
      "outputs": []
    },
    {
      "cell_type": "code",
      "source": [
        "y_pred_2 = predict(np.array([1, 8.3]), theta)*10000\n",
        "y_pred_2"
      ],
      "metadata": {
        "id": "ym2x-gnYdADX"
      },
      "execution_count": null,
      "outputs": []
    }
  ]
}